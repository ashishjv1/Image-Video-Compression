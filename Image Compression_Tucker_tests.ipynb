{
 "cells": [
  {
   "cell_type": "code",
   "execution_count": 1,
   "metadata": {},
   "outputs": [
    {
     "name": "stdout",
     "output_type": "stream",
     "text": [
      "Defaulting to user installation because normal site-packages is not writeable\n",
      "Requirement already satisfied: numpy in /beegfs/home/a.jha/.local/lib/python3.7/site-packages (1.21.6)\n",
      "\n",
      "\u001b[1m[\u001b[0m\u001b[34;49mnotice\u001b[0m\u001b[1;39;49m]\u001b[0m\u001b[39;49m A new release of pip is available: \u001b[0m\u001b[31;49m23.0\u001b[0m\u001b[39;49m -> \u001b[0m\u001b[32;49m23.0.1\u001b[0m\n",
      "\u001b[1m[\u001b[0m\u001b[34;49mnotice\u001b[0m\u001b[1;39;49m]\u001b[0m\u001b[39;49m To update, run: \u001b[0m\u001b[32;49mpip install --upgrade pip\u001b[0m\n"
     ]
    }
   ],
   "source": [
    "# Description - Compression Comparison Between Models:{Factorized prior balle_variational_2018, Hyperprior balle_variational_2018,\n",
    "# Hyperprior with a Gaussian mixture model minnen_joint_2018,Joint autoregressive and hyperprior minnen_joint_2018\n",
    "# Extension from minnen_joint_2018, residual blocks and sub-pixel deconvolution cheng_learned_2020}\n",
    "!pip install numpy\n",
    "import tensorly as tl\n",
    "import math\n",
    "import io\n",
    "import torch\n",
    "from torchvision import transforms\n",
    "import numpy as np\n",
    "from pytorch_msssim import ms_ssim\n",
    "from PIL import Image\n",
    "from compressai.zoo import (bmshj2018_factorized, bmshj2018_hyperprior, mbt2018_mean, mbt2018, cheng2020_anchor)\n",
    "import matplotlib.pyplot as plt\n",
    "from ipywidgets import interact, widgets\n",
    "import sys\n",
    "import os\n",
    "import time\n",
    "from statistics import mean\n",
    "from pytorch_msssim import ms_ssim\n",
    "from tensorly.decomposition import parafac\n",
    "from tensorly.decomposition import tucker\n",
    "import VBMF\n",
    "\n",
    "tl.set_backend('numpy')"
   ]
  },
  {
   "cell_type": "code",
   "execution_count": 2,
   "metadata": {},
   "outputs": [],
   "source": [
    "def compute_psnr(a, b):\n",
    "    mse = torch.mean((a - b)**2).item()\n",
    "    return -10 * math.log10(mse)\n",
    "\n",
    "def compute_msssim(a, b):\n",
    "    return ms_ssim(a, b, data_range=1.).item()\n",
    "\n",
    "def compute_bpp(out_net):\n",
    "    size = out_net['x_hat'].size()\n",
    "    num_pixels = size[0] * size[2] * size[3]\n",
    "\n",
    "    return sum(torch.log(likelihoods).sum() / (-math.log(2) * num_pixels)\n",
    "            for likelihoods in out_net['likelihoods'].values()).item()"
   ]
  },
  {
   "cell_type": "code",
   "execution_count": 3,
   "metadata": {},
   "outputs": [],
   "source": [
    "def tucker_ranks(weights):\n",
    "\n",
    "    unfold_0 = tl.base.unfold(weights, 0) \n",
    "    unfold_1 = tl.base.unfold(weights, 1)\n",
    "\n",
    "    unfold_0 = torch.from_numpy(unfold_0)\n",
    "    unfold_1 = torch.from_numpy(unfold_1)\n",
    "    \n",
    "    _, diag_0, _, _ = VBMF.EVBMF(unfold_0)\n",
    "    _, diag_1, _, _ = VBMF.EVBMF(unfold_1)\n",
    "\n",
    "    ranks = [diag_0.shape[0], diag_1.shape[1]]\n",
    "    return ranks"
   ]
  },
  {
   "cell_type": "code",
   "execution_count": 4,
   "metadata": {},
   "outputs": [],
   "source": [
    "def to_image(tensor):\n",
    "    \"\"\"A convenience function to convert from a float dtype back to uint8\"\"\"\n",
    "    im = tl.to_numpy(tensor)\n",
    "    im -= im.min()\n",
    "    im /= im.max()\n",
    "    im *= 255\n",
    "    return im.astype(np.uint8)"
   ]
  },
  {
   "cell_type": "code",
   "execution_count": 5,
   "metadata": {},
   "outputs": [],
   "source": [
    "def tucker_decompose(image, device=\"cuda\", random_state=12345):\n",
    "    imagetensor_for_tucker = tl.tensor(image, dtype='float64')\n",
    "    ranks = tucker_ranks(imagetensor_for_tucker)\n",
    "    tucker_rank = ranks\n",
    "    tucker_rank.append(imagetensor_for_tucker.shape[2])\n",
    "    core, tucker_factors = tucker(imagetensor_for_tucker, rank=tucker_rank, init='random', tol=10e-5, random_state=random_state)\n",
    "    tucker_reconstruction = tl.tucker_to_tensor((core, tucker_factors))\n",
    "    rec_img = to_image(tucker_reconstruction)\n",
    "    rec_img = Image.fromarray(rec_img, 'RGB').resize((1088,1920))\n",
    "    x = transforms.ToTensor()(rec_img).unsqueeze(0).to(device)\n",
    "    return x"
   ]
  },
  {
   "cell_type": "code",
   "execution_count": 6,
   "metadata": {},
   "outputs": [],
   "source": [
    "def cp_decomposition(image, device=\"cuda\"):\n",
    "    cp_rank = 25\n",
    "    imagetensor_for_cp = tl.tensor(image, dtype='float64')\n",
    "    weights, factors = parafac(imagetensor_for_cp, rank=cp_rank, init='random', tol=10e-6)\n",
    "    cp_reconstruction = tl.cp_to_tensor((weights, factors))\n",
    "    rec_image = to_image(cp_reconstruction)\n",
    "    rec_image = Image.fromarray(rec_image, 'RGB').resize((1088,1920))\n",
    "    x = transforms.ToTensor()(rec_image).unsqueeze(0).to(device)\n",
    "    return x"
   ]
  },
  {
   "cell_type": "code",
   "execution_count": 10,
   "metadata": {},
   "outputs": [],
   "source": [
    "def get_reconstructions(networks, directory, quality, compression=\"Tucker\"):\n",
    "    reconstructed_images = []\n",
    "    metric_list_tuckerimage = []\n",
    "    metric_list_origimage = []\n",
    "    bpp_list = []\n",
    "    msssim_list_tuckerimage = []\n",
    "    msssim_list_origimage = []\n",
    "    for images in os.listdir(directory):\n",
    "        img = Image.open(f\"{directory}\" + \"/\" + f\"{images}\").convert(\"RGB\").resize((1088,1920))\n",
    "        image_for_metrics = transforms.ToTensor()(img).unsqueeze(0).to(device)\n",
    "        if compression.lower() == \"tucker\":\n",
    "            x = tucker_decompose(img)\n",
    "        elif compression.lower() == \"cpd\":\n",
    "            x = cp_decomposition(img)\n",
    "        else:\n",
    "            x = image_for_metrics\n",
    "        outputs = {}\n",
    "        with torch.no_grad():\n",
    "            for name, net in networks.items():\n",
    "                rv = net(x)\n",
    "                rv['x_hat'].clamp_(0, 1)\n",
    "                rv['x_hat']\n",
    "                outputs[name] = rv\n",
    "        d_npy_xhat = rv['x_hat'].cpu().numpy()\n",
    "\n",
    "        reconstructions = {name: transforms.ToPILImage()(out['x_hat'].squeeze().cpu())\n",
    "                           for name, out in outputs.items()}\n",
    "        metrics = {}\n",
    "        name_metric = {}\n",
    "        metrices_dict = []\n",
    "        \n",
    "        for name, out in outputs.items():\n",
    "#             metric_list.append(compute_psnr(x, out[\"x_hat\"]))\n",
    "#             bpp_list.append(compute_bpp(out))\n",
    "            metric_list_tuckerimage.append(compute_psnr(x, out[\"x_hat\"]))\n",
    "    \n",
    "            metric_list_origimage.append(compute_psnr(image_for_metrics, out[\"x_hat\"]))\n",
    "    \n",
    "            msssim_list_tuckerimage.append(compute_msssim(x, out[\"x_hat\"]))\n",
    "    \n",
    "            msssim_list_origimage.append(compute_msssim(image_for_metrics, out[\"x_hat\"]))\n",
    "\n",
    "            bpp_list.append(compute_bpp(out))\n",
    "    \n",
    "    print(mean(metric_list_origimage), mean(bpp_list))"
   ]
  }
 ],
 "metadata": {
  "kernelspec": {
   "display_name": "Python 3",
   "language": "python",
   "name": "python3"
  },
  "language_info": {
   "codemirror_mode": {
    "name": "ipython",
    "version": 3
   },
   "file_extension": ".py",
   "mimetype": "text/x-python",
   "name": "python",
   "nbconvert_exporter": "python",
   "pygments_lexer": "ipython3",
   "version": "3.7.1"
  }
 },
 "nbformat": 4,
 "nbformat_minor": 4
}
