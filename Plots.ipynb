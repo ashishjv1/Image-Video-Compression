{
 "cells": [
  {
   "cell_type": "code",
   "execution_count": 33,
   "metadata": {},
   "outputs": [],
   "source": [
    "import matplotlib\n",
    "matplotlib.use('Agg')\n",
    "import matplotlib.pyplot as plt\n",
    "import os\n",
    "import imageio\n",
    "import cv2"
   ]
  },
  {
   "cell_type": "code",
   "execution_count": 34,
   "metadata": {},
   "outputs": [],
   "source": [
    "def uvgdrawplt(lbpp, lpsnr, lmsssim, global_step, la='new', testfull=False):\n",
    "    prefix = 'performance'\n",
    "    if testfull:\n",
    "        prefix = 'fullpreformance'\n",
    "    LineWidth = 1\n",
    "    test, = plt.plot(lbpp, lpsnr, marker='x', color='black', linewidth=LineWidth, label=la)\n",
    "    \n",
    "    bpp, psnr = [0.06133, 0.09236, 0.13015, 0.18393], [32.3352, 33.9680, 35.7011, 37.4305]\n",
    "    mbt_2018, = plt.plot(bpp, psnr, \"yo--\", linewidth=LineWidth, label='mbt-2018')\n",
    "    \n",
    "    bpp, psnr = [0.07336, 0.10443, 0.14555, 0.20122],[31.8867, 33.61589, 35.33013, 37.0871]\n",
    "    mbt_mean, = plt.plot(bpp, psnr, \"go--\", linewidth=LineWidth, label='mbt-mean')\n",
    "    \n",
    "    bpp, psnr = [0.0839, 0.11796, 0.16024, 0.2175],[31.4843, 33.2988, 35.1871, 37.0364]\n",
    "#     bmshj2018_h, = plt.plot(bpp, psnr, \"m--s\", linewidth=LineWidth, label='Bmshj2018_hyperprior')\n",
    "    bmshj2018_h, = plt.plot(bpp, psnr, \"m--s\", linewidth=LineWidth, label='DVC')\n",
    "    \n",
    "    bpp, psnr = [0.1007, 0.1447, 0.2037, 0.2845],[31.3366, 33.2501, 34.9958, 36.8063]\n",
    "    bmshj2018_f, = plt.plot(bpp, psnr, \"r--v\", linewidth=LineWidth, label='Bmshj2018_factorized')\n",
    "    \n",
    "    bpp, psnr = [0.06082, 0.0880, 0.1239, 0.1706],[32.2575, 33.6507, 35.3751, 37.4874]\n",
    "    cheng_anchor, = plt.plot(bpp, psnr, \"b-*\", linewidth=LineWidth, label='Cheng_anchor')\n",
    "\n",
    "#     bpp, psnr = [0.0657, 0.1350, 0.1824, 0.2840], [21.6341, 23.3397, 24.0445, 25.2030]\n",
    "#     Tucker_Huffman, = plt.plot(bpp, psnr, \"c-o\", color=\"red\", linewidth=LineWidth, label='Tucker-naiive-Huffman')\n",
    "    \n",
    "    bpp, psnr = [0.0582, 0.0879, 0.1244, 0.1763], [31.2816, 32.5754, 33.8655, 35.0636]\n",
    "    Tucker_AI, = plt.plot(bpp, psnr, \"c-o\", color=\"purple\", linewidth=LineWidth, label='Tucker-naiive-AI')\n",
    "\n",
    "\n",
    "#     bpp, psnr = [0.2944295592, 0.9611072101, 1.569261675], [17.36648524, 24.1895563, 28.7187692]\n",
    "#     mbt_2018, = plt.plot(bpp, psnr, \"yo--\", linewidth=LineWidth, label='mbt-2018')\n",
    "    \n",
    "#     bpp, psnr = [0.4003350104, 0.8155546609, 1.274233801],[17.59018856, 17.9504641, 24.05688288]\n",
    "#     mbt_mean, = plt.plot(bpp, psnr, \"go--\", linewidth=LineWidth, label='mbt-mean')\n",
    "    \n",
    "#     bpp, psnr = [0.5810989935, 0.7714355129, 1.024326756, 1.441221177],[22.724164, 25.01636342, 26.92730255, 29.00260857]\n",
    "# #     bmshj2018_h, = plt.plot(bpp, psnr, \"m--s\", linewidth=LineWidth, label='Bmshj2018_hyperprior')\n",
    "#     bmshj2018_h, = plt.plot(bpp, psnr, \"m--s\", linewidth=LineWidth, label='DVC')\n",
    "    \n",
    "#     bpp, psnr = [0.2400843332, 0.3404704101, 0.4910919161, 0.718054319, 1.351466219],[15.17274849, 16.70361449, 18.7980052, 21.84422652, 25.0934298]\n",
    "#     bmshj2018_f, = plt.plot(bpp, psnr, \"r--v\", linewidth=LineWidth, label='Bmshj2018_factorized')\n",
    "    \n",
    "#     bpp, psnr = [0.3541617811, 0.4816066419, 0.6411827843],[18.64115398, 19.14076695, 19.81646272]\n",
    "#     cheng_anchor, = plt.plot(bpp, psnr, \"b-*\", linewidth=LineWidth, label='Cheng_anchor')\n",
    "    \n",
    "    savepathpsnr = prefix + '/tucker-naiive' + '.png'\n",
    "    print(prefix)\n",
    "    if not os.path.exists(prefix):\n",
    "        os.makedirs(prefix)\n",
    "#     plt.legend(handles=[h264, h265, baseline, test], loc=4)\n",
    "    plt.legend(handles=[cheng_anchor, bmshj2018_f, bmshj2018_h, mbt_mean, mbt_2018, Tucker_AI], loc=1)\n",
    "#         plt.legend(handles=[Tucker], loc=4)\n",
    "    fname = \"tucker\"\n",
    "    plt.grid()\n",
    "    plt.xlabel('Bpp')\n",
    "    plt.ylabel('PSNR')\n",
    "    plt.title('Kodak dataset')\n",
    "    plt.savefig(dpi=200, fname=fname)\n",
    "    plt.show()\n",
    "    plt.clf()\n",
    "\n",
    "# ----------------------------------------MSSSIM-------------------------------------------------\n",
    "#     test, = plt.plot(lbpp, lmsssim, marker='x', color='black', linewidth=LineWidth, label=la)\n",
    "\n",
    "#     bpp, psnr, msssim = [0.176552, 0.107806, 0.074686, 0.052697], [37.754576, 36.680327, 35.602740, 34.276196], [0.970477, 0.963935, 0.955738, 0.942226]\n",
    "#     baseline, = plt.plot(bpp, msssim, \"b-*\", linewidth=LineWidth, label='baseline')\n",
    "\n",
    "#     # Ours very fast\n",
    "#     bpp, psnr, msssim = [0.187701631, 0.122491399, 0.084205003, 0.046558501], [36.52492847, 35.78201761, 35.05371763, 33.56996097], [0.968154218, 0.962246563, 0.956369263, 0.942897242]\n",
    "#     h264, = plt.plot(bpp, msssim, \"m--s\", linewidth=LineWidth, label='H.264')\n",
    "\n",
    "#     bpp, msssim = [0.165663191, 0.074090183, 0.039677747], [0.970470131, 0.960598164, 0.950199185]\n",
    "#     h265, = plt.plot(bpp, msssim, \"r--v\", linewidth=LineWidth, label='H.265')\n",
    "\n",
    "#     savepathmsssim = prefix + '/' + 'UVG_msssim' + '.png'\n",
    "#     plt.legend(handles=[h264, h265, baseline, test], loc=4)\n",
    "#     plt.grid()\n",
    "#     plt.xlabel('Bpp')\n",
    "#     plt.ylabel('MS-SSIM')\n",
    "#     plt.title('UVG dataset')\n",
    "#     plt.show()\n",
    "#     plt.savefig(savepathmsssim)\n",
    "#     plt.clf()"
   ]
  },
  {
   "cell_type": "code",
   "execution_count": 35,
   "metadata": {},
   "outputs": [
    {
     "name": "stdout",
     "output_type": "stream",
     "text": [
      "fullpreformance\n"
     ]
    }
   ],
   "source": [
    "\n",
    "if __name__ == '__main__':\n",
    "    labelname = ''\n",
    "    uvgdrawplt([], [], [], 0, la=labelname, testfull=True)"
   ]
  },
  {
   "cell_type": "code",
   "execution_count": null,
   "metadata": {},
   "outputs": [],
   "source": []
  }
 ],
 "metadata": {
  "kernelspec": {
   "display_name": "Python 3",
   "language": "python",
   "name": "python3"
  },
  "language_info": {
   "codemirror_mode": {
    "name": "ipython",
    "version": 3
   },
   "file_extension": ".py",
   "mimetype": "text/x-python",
   "name": "python",
   "nbconvert_exporter": "python",
   "pygments_lexer": "ipython3",
   "version": "3.7.1"
  }
 },
 "nbformat": 4,
 "nbformat_minor": 4
}
