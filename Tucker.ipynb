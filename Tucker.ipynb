{
 "cells": [
  {
   "cell_type": "code",
   "execution_count": 1,
   "metadata": {},
   "outputs": [],
   "source": [
    "import matplotlib.pyplot as plt\n",
    "import tensorly as tl\n",
    "import numpy as np\n",
    "from scipy.misc import face\n",
    "from scipy.ndimage import zoom\n",
    "from tensorly.decomposition import parafac\n",
    "from tensorly.decomposition import tucker\n",
    "from math import ceil\n",
    "from PIL import Image\n",
    "import torch\n",
    "import math\n",
    "from pytorch_msssim import ms_ssim\n",
    "import VBMF\n",
    "from torchvision import transforms"
   ]
  },
  {
   "cell_type": "code",
   "execution_count": 2,
   "metadata": {},
   "outputs": [],
   "source": [
    "def compute_psnr(a, b):\n",
    "    mse = torch.mean((a - b)**2).item()\n",
    "    return -10 * math.log10(mse)\n",
    "\n",
    "def compute_msssim(a, b):\n",
    "    return ms_ssim(a, b, data_range=1.).item()\n",
    "\n",
    "def compute_bpp(out_net):\n",
    "    size = out_net['x_hat'].size()\n",
    "    num_pixels = size[0] * size[2] * size[3]\n",
    "\n",
    "    return sum(torch.log(likelihoods).sum() / (-math.log(2) * num_pixels)\n",
    "            for likelihoods in out_net['likelihoods'].values()).item()"
   ]
  },
  {
   "cell_type": "code",
   "execution_count": 3,
   "metadata": {},
   "outputs": [],
   "source": [
    "def tucker_ranks(weights):\n",
    "\n",
    "#     weights = layer.weight.data.numpy()\n",
    "\n",
    "    unfold_0 = tl.base.unfold(weights, 0) \n",
    "    unfold_1 = tl.base.unfold(weights, 1)\n",
    "\n",
    "    unfold_0 = torch.from_numpy(unfold_0)\n",
    "    unfold_1 = torch.from_numpy(unfold_1)\n",
    "    \n",
    "    _, diag_0, _, _ = VBMF.EVBMF(unfold_0)\n",
    "    _, diag_1, _, _ = VBMF.EVBMF(unfold_1)\n",
    "\n",
    "    ranks = [diag_0.shape[0], diag_1.shape[1]]\n",
    "    return ranks"
   ]
  },
  {
   "cell_type": "code",
   "execution_count": 5,
   "metadata": {},
   "outputs": [],
   "source": [
    "device = \"cpu\"\n",
    "directory = \"/trinity/home/a.jha/scripts/Image_Compression/kodak_images/kodim02.png\"\n",
    "image = Image.open(directory).convert(\"RGB\").resize((1088,1920))\n",
    "image_for_metrics = transforms.ToTensor()(image).unsqueeze(0).to(device)\n",
    "\n",
    "\n",
    "image_for_tucker = tl.tensor(image, dtype='float64')\n",
    "\n",
    "ranks = tucker_ranks(image_for_tucker)"
   ]
  },
  {
   "cell_type": "code",
   "execution_count": null,
   "metadata": {},
   "outputs": [],
   "source": [
    "random_state = 12345\n",
    "\n",
    "def to_image(tensor):\n",
    "    \"\"\"A convenience function to convert from a float dtype back to uint8\"\"\"\n",
    "    im = tl.to_numpy(tensor)\n",
    "    im -= im.min()\n",
    "    im /= im.max()\n",
    "    im *= 255\n",
    "    return im.astype(np.uint8)\n",
    "\n",
    "\n",
    "tucker_rank = ranks\n",
    "tucker_rank.append(image_for_tucker.shape[2])\n",
    "\n",
    "\n",
    "# Tucker decomposition\n",
    "core, tucker_factors = tucker(image_for_tucker, rank=tucker_rank, init='random', tol=10e-5, random_state=random_state)\n",
    "\n",
    "tucker_reconstruction = tl.tucker_to_tensor((core, tucker_factors))\n",
    "\n",
    "# Plotting the original and reconstruction from the decompositions\n",
    "fig = plt.figure()\n",
    "ax = fig.add_subplot(1, 3, 1)\n",
    "ax.set_axis_off()\n",
    "ax.imshow(to_image(image_for_tucker))\n",
    "ax.set_title('original')\n",
    "\n",
    "\n",
    "ax = fig.add_subplot(1, 3, 3)\n",
    "ax.set_axis_off()\n",
    "ax.imshow(to_image(tucker_reconstruction))\n",
    "ax.set_title('Tucker')\n",
    "\n",
    "plt.tight_layout()\n",
    "plt.show()"
   ]
  },
  {
   "cell_type": "code",
   "execution_count": null,
   "metadata": {},
   "outputs": [],
   "source": [
    "core.shape, tucker_factors[0].shape, tucker_factors[1].shape"
   ]
  },
  {
   "cell_type": "code",
   "execution_count": null,
   "metadata": {},
   "outputs": [],
   "source": [
    "from compressai.zoo import (bmshj2018_factorized, bmshj2018_hyperprior, mbt2018_mean, mbt2018, cheng2020_anchor)"
   ]
  },
  {
   "cell_type": "code",
   "execution_count": null,
   "metadata": {},
   "outputs": [],
   "source": [
    "quality = 4\n",
    "device = \"cuda\"\n",
    "networks = {\n",
    "        'cheng2020-anchor': cheng2020_anchor(quality=quality, pretrained=True).eval().to(device),\n",
    "#         'bmshj2018-factorized': bmshj2018_factorized(quality=quality, pretrained=True).eval().to(device),\n",
    "#         'bmshj2018-hyperprior': bmshj2018_hyperprior(quality=quality, pretrained=True).eval().to(device),\n",
    "#         'mbt2018-mean': mbt2018_mean(quality=quality, pretrained=True).eval().to(device),\n",
    "#         'mbt2018': mbt2018(quality=quality, pretrained=True).eval().to(device),\n",
    "    }"
   ]
  },
  {
   "cell_type": "code",
   "execution_count": null,
   "metadata": {},
   "outputs": [],
   "source": [
    "from torchvision import transforms"
   ]
  },
  {
   "cell_type": "code",
   "execution_count": null,
   "metadata": {},
   "outputs": [],
   "source": [
    "rec_img = to_image(tucker_reconstruction)\n",
    "rec_img = Image.fromarray(rec_img, 'RGB').resize((1088,1920))\n",
    "\n",
    "x = transforms.ToTensor()(rec_img).unsqueeze(0).to(device)\n",
    "outputs = {}"
   ]
  },
  {
   "cell_type": "code",
   "execution_count": null,
   "metadata": {},
   "outputs": [],
   "source": [
    "with torch.no_grad():\n",
    "    for name, net in networks.items():\n",
    "        rv = net(x)\n",
    "        rv['x_hat'].clamp_(0, 1)\n",
    "        rv['x_hat']\n",
    "        outputs[name] = rv\n",
    "d_npy_xhat = rv['x_hat'].cpu().numpy()\n",
    "\n",
    "reconstructions = {name: transforms.ToPILImage()(out['x_hat'].squeeze().cpu())\n",
    "                    for name, out in outputs.items()}"
   ]
  },
  {
   "cell_type": "code",
   "execution_count": null,
   "metadata": {},
   "outputs": [],
   "source": [
    "metric_list_tuckerimage = []\n",
    "metric_list_origimage = []\n",
    "bpp_list = []\n",
    "msssim_list_tuckerimage = []\n",
    "msssim_list_origimage = []\n",
    "\n",
    "for name, out in outputs.items():\n",
    "    metric_list_tuckerimage.append(compute_psnr(x, out[\"x_hat\"]))\n",
    "    \n",
    "    metric_list_origimage.append(compute_psnr(image_for_metrics, out[\"x_hat\"]))\n",
    "    \n",
    "    msssim_list_tuckerimage.append(compute_msssim(x, out[\"x_hat\"]))\n",
    "    \n",
    "    msssim_list_origimage.append(compute_msssim(image_for_metrics, out[\"x_hat\"]))\n",
    "\n",
    "    bpp_list.append(compute_bpp(out))"
   ]
  },
  {
   "cell_type": "code",
   "execution_count": null,
   "metadata": {},
   "outputs": [],
   "source": [
    "##PSNR\n",
    "metric_list_tuckerimage, bpp_list, metric_list_origimage"
   ]
  },
  {
   "cell_type": "code",
   "execution_count": null,
   "metadata": {},
   "outputs": [],
   "source": [
    "##MS-SSIM\n",
    "msssim_list_tuckerimage, msssim_list_origimage"
   ]
  },
  {
   "cell_type": "code",
   "execution_count": null,
   "metadata": {},
   "outputs": [],
   "source": []
  }
 ],
 "metadata": {
  "kernelspec": {
   "display_name": "Python 3",
   "language": "python",
   "name": "python3"
  },
  "language_info": {
   "codemirror_mode": {
    "name": "ipython",
    "version": 3
   },
   "file_extension": ".py",
   "mimetype": "text/x-python",
   "name": "python",
   "nbconvert_exporter": "python",
   "pygments_lexer": "ipython3",
   "version": "3.7.1"
  }
 },
 "nbformat": 4,
 "nbformat_minor": 4
}
