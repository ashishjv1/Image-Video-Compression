{
 "cells": [
  {
   "cell_type": "code",
   "execution_count": 1,
   "metadata": {},
   "outputs": [],
   "source": [
    "# Description - Compression Comparison Between Models:{Factorized prior balle_variational_2018, Hyperprior balle_variational_2018,\n",
    "# Hyperprior with a Gaussian mixture model minnen_joint_2018,Joint autoregressive and hyperprior minnen_joint_2018\n",
    "# Extension from minnen_joint_2018, residual blocks and sub-pixel deconvolution cheng_learned_2020}\n",
    "\n",
    "import math\n",
    "import io\n",
    "import torch\n",
    "from torchvision import transforms\n",
    "import numpy as np\n",
    "\n",
    "from PIL import Image\n",
    "\n",
    "import matplotlib.pyplot as plt"
   ]
  },
  {
   "cell_type": "code",
   "execution_count": 2,
   "metadata": {},
   "outputs": [],
   "source": [
    "from pytorch_msssim import ms_ssim"
   ]
  },
  {
   "cell_type": "code",
   "execution_count": 3,
   "metadata": {},
   "outputs": [],
   "source": [
    "from compressai.zoo import (bmshj2018_factorized, bmshj2018_hyperprior, mbt2018_mean, mbt2018, cheng2020_anchor)"
   ]
  },
  {
   "cell_type": "code",
   "execution_count": 4,
   "metadata": {},
   "outputs": [],
   "source": [
    "from ipywidgets import interact, widgets"
   ]
  },
  {
   "cell_type": "code",
   "execution_count": 7,
   "metadata": {},
   "outputs": [],
   "source": [
    "def compute_psnr(a, b):\n",
    "    mse = torch.mean((a - b)**2).item()\n",
    "    return -10 * math.log10(mse)\n",
    "\n",
    "def compute_msssim(a, b):\n",
    "    return ms_ssim(a, b, data_range=1.).item()\n",
    "\n",
    "def compute_bpp(out_net):\n",
    "    size = out_net['x_hat'].size()\n",
    "    num_pixels = size[0] * size[2] * size[3]\n",
    "\n",
    "    return sum(torch.log(likelihoods).sum() / (-math.log(2) * num_pixels)\n",
    "            for likelihoods in out_net['likelihoods'].values()).item()"
   ]
  },
  {
   "cell_type": "code",
   "execution_count": 8,
   "metadata": {},
   "outputs": [],
   "source": [
    "import sys\n",
    "import os\n",
    "import time\n",
    "from statistics import mean\n",
    "def get_reconstructions(networks, directory, quality):\n",
    "    reconstructed_images = []\n",
    "    metric_list = []\n",
    "    bpp_list = []\n",
    "    for images in os.listdir(directory):\n",
    "        img = Image.open(directory + \"/\" + images).convert(\"RGB\").resize((1088,1920))\n",
    "        x = transforms.ToTensor()(img).unsqueeze(0).to(device)\n",
    "        outputs = {}\n",
    "        with torch.no_grad():\n",
    "            for name, net in networks.items():\n",
    "                rv = net(x)\n",
    "                rv['x_hat'].clamp_(0, 1)\n",
    "                rv['x_hat']\n",
    "                outputs[name] = rv\n",
    "        d_npy_xhat = rv['x_hat'].cpu().numpy()\n",
    "\n",
    "        reconstructions = {name: transforms.ToPILImage()(out['x_hat'].squeeze().cpu())\n",
    "                           for name, out in outputs.items()}\n",
    "        metrics = {}\n",
    "        name_metric = {}\n",
    "        metrices_dict = []\n",
    "        \n",
    "        for name, out in outputs.items():\n",
    "            metric_list.append(compute_psnr(x, out[\"x_hat\"]))\n",
    "            bpp_list.append(compute_bpp(out))\n",
    "    print(mean(metric_list), mean(bpp_list))"
   ]
  },
  {
   "cell_type": "code",
   "execution_count": 10,
   "metadata": {},
   "outputs": [
    {
     "name": "stdout",
     "output_type": "stream",
     "text": [
      "31.48431547574274 0.08393712403873603\n",
      "33.29889857999003 0.11796063681443532\n",
      "35.187170397738726 0.16024538036435843\n",
      "37.03642704702601 0.2175674857571721\n",
      "38.778880416717236 0.2906538049379985\n",
      "40.58618257037663 0.3829578850418329\n"
     ]
    }
   ],
   "source": [
    "#Load Pre-Trained Networks\n",
    "quality = 1\n",
    "for i in range(6):\n",
    "    r_images = []\n",
    "#     directory = \"/trinity/home/a.jha/scripts/Image_Compression/P-Frames/H26520/\"\n",
    "    directory = \"/trinity/home/a.jha/scripts/Image_Compression/kodak_images/\"\n",
    "    device = 'cuda' if torch.cuda.is_available() else 'cpu'\n",
    "    metric = 'mse'  # only pre-trained model for mse are available for now\n",
    "    \n",
    "    networks = {\n",
    "#         'cheng2020-anchor': cheng2020_anchor(quality=quality, pretrained=True).eval().to(device),\n",
    "#         'bmshj2018-factorized': bmshj2018_factorized(quality=quality, pretrained=True).eval().to(device),\n",
    "        'bmshj2018-hyperprior': bmshj2018_hyperprior(quality=quality, pretrained=True).eval().to(device),\n",
    "#         'mbt2018-mean': mbt2018_mean(quality=quality, pretrained=True).eval().to(device),\n",
    "#         'mbt2018': mbt2018(quality=quality, pretrained=True).eval().to(device),\n",
    "    }\n",
    "    get_reconstructions(networks, directory, quality)\n",
    "    quality = quality + 1"
   ]
  },
  {
   "cell_type": "code",
   "execution_count": null,
   "metadata": {},
   "outputs": [],
   "source": []
  }
 ],
 "metadata": {
  "kernelspec": {
   "display_name": "Python 3",
   "language": "python",
   "name": "python3"
  },
  "language_info": {
   "codemirror_mode": {
    "name": "ipython",
    "version": 3
   },
   "file_extension": ".py",
   "mimetype": "text/x-python",
   "name": "python",
   "nbconvert_exporter": "python",
   "pygments_lexer": "ipython3",
   "version": "3.7.7"
  }
 },
 "nbformat": 4,
 "nbformat_minor": 4
}
