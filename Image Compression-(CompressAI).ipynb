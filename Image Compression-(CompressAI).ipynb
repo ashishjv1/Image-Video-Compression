{
 "cells": [
  {
   "cell_type": "code",
   "execution_count": 14,
   "metadata": {},
   "outputs": [],
   "source": [
    "# Description - Compression Comparison Between Models:{Factorized prior balle_variational_2018, Hyperprior balle_variational_2018,\n",
    "# Hyperprior with a Gaussian mixture model minnen_joint_2018,Joint autoregressive and hyperprior minnen_joint_2018\n",
    "# Extension from minnen_joint_2018, residual blocks and sub-pixel deconvolution cheng_learned_2020}\n",
    "\n",
    "import math\n",
    "import io\n",
    "import torch\n",
    "from torchvision import transforms\n",
    "import numpy as np\n",
    "\n",
    "from PIL import Image\n",
    "\n",
    "import matplotlib.pyplot as plt"
   ]
  },
  {
   "cell_type": "code",
   "execution_count": 15,
   "metadata": {},
   "outputs": [],
   "source": [
    "from pytorch_msssim import ms_ssim"
   ]
  },
  {
   "cell_type": "code",
   "execution_count": 16,
   "metadata": {},
   "outputs": [],
   "source": [
    "from compressai.zoo import (bmshj2018_factorized, bmshj2018_hyperprior, mbt2018_mean, mbt2018, cheng2020_anchor)"
   ]
  },
  {
   "cell_type": "code",
   "execution_count": 17,
   "metadata": {},
   "outputs": [],
   "source": [
    "from ipywidgets import interact, widgets"
   ]
  },
  {
   "cell_type": "code",
   "execution_count": 18,
   "metadata": {},
   "outputs": [],
   "source": [
    "device = 'cpu' if torch.cuda.is_available() else 'cpu'\n",
    "metric = 'mse'  # only pre-trained model for mse are available for now\n",
    "quality = 4     # lower quality -> lower bit-rate (use lower quality to clearly see visual differences in the notebook)"
   ]
  },
  {
   "cell_type": "code",
   "execution_count": 19,
   "metadata": {},
   "outputs": [],
   "source": [
    "#Load Pre-Trained Networks\n",
    "networks = {\n",
    "    'bmshj2018-factorized': bmshj2018_factorized(quality=quality, pretrained=True).eval().to(device),\n",
    "    'bmshj2018-hyperprior': bmshj2018_hyperprior(quality=quality, pretrained=True).eval().to(device),\n",
    "    'mbt2018-mean': mbt2018_mean(quality=quality, pretrained=True).eval().to(device),\n",
    "    'mbt2018': mbt2018(quality=quality, pretrained=True).eval().to(device),\n",
    "    'cheng2020-anchor': cheng2020_anchor(quality=quality, pretrained=True).eval().to(device),\n",
    "}"
   ]
  },
  {
   "cell_type": "code",
   "execution_count": 20,
   "metadata": {},
   "outputs": [],
   "source": [
    "def compute_psnr(a, b):\n",
    "    mse = torch.mean((a - b)**2).item()\n",
    "    return -10 * math.log10(mse)\n",
    "\n",
    "def compute_msssim(a, b):\n",
    "    return ms_ssim(a, b, data_range=1.).item()\n",
    "\n",
    "def compute_bpp(out_net):\n",
    "    size = out_net['x_hat'].size()\n",
    "    num_pixels = size[0] * size[2] * size[3]\n",
    "\n",
    "    return sum(torch.log(likelihoods).sum() / (-math.log(2) * num_pixels)\n",
    "            for likelihoods in out_net['likelihoods'].values()).item()"
   ]
  },
  {
   "cell_type": "code",
   "execution_count": 44,
   "metadata": {},
   "outputs": [],
   "source": [
    "import sys\n",
    "import os\n",
    "# img = Image.open('/trinity/home/a.jha/scripts/Image_Compression/Kodim20/kodim_new6.png').convert('RGB')\n",
    "reconstructed_images = []\n",
    "\n",
    "directory = \"/trinity/home/a.jha/scripts/Image_Compression/Kodim20/\"\n",
    "for images in os.listdir(directory):\n",
    "    img = Image.open(directory + \"/\" + images) \n",
    "    x = transforms.ToTensor()(img).unsqueeze(0).to(device)\n",
    "    outputs = {}\n",
    "    with torch.no_grad():\n",
    "        for name, net in networks.items():\n",
    "            rv = net(x)\n",
    "            rv['x_hat'].clamp_(0, 1)\n",
    "            rv['x_hat']\n",
    "            outputs[name] = rv\n",
    "    d_npy_xhat = rv['x_hat'].cpu().numpy()\n",
    "    reconstructions = {name: transforms.ToPILImage()(out['x_hat'].squeeze().cpu())\n",
    "                       for name, out in outputs.items()}\n",
    "    metrics = {}\n",
    "    name_metric = {}\n",
    "    metrices_dict = []\n",
    "    for name, out in outputs.items():\n",
    "        metrics[name] = {\n",
    "            'psnr': compute_psnr(x, out[\"x_hat\"]),\n",
    "            'ms-ssim': compute_msssim(x, out[\"x_hat\"]),\n",
    "            'bit-rate': compute_bpp(out),\n",
    "        }\n",
    "        name_metric = {images: metrics}\n",
    "        metrices_dict.append(name_metric)\n",
    "    metric_save = \"/trinity/home/a.jha/scripts/Image_Compression/Kodim20_reconstructions/\" + images + \".txt\"\n",
    "    with open(metric_save, 'w') as f:\n",
    "        f.write(str(name_metric))\n",
    "\n",
    " \n",
    "    reconstructed_dict = {images: reconstructions}\n",
    "    reconstructed_images.append(reconstructed_dict)\n"
   ]
  },
  {
   "cell_type": "code",
   "execution_count": 45,
   "metadata": {},
   "outputs": [],
   "source": [
    "for items in reconstructed_images:\n",
    "    for names, images in items.items():\n",
    "        for networks, reconstructions in images.items():\n",
    "            save = \"/trinity/home/a.jha/scripts/Image_Compression/\" + networks + \"/\" + names\n",
    "            directory = \"/trinity/home/a.jha/scripts/Image_Compression/\" + networks\n",
    "            if not os.path.isdir(directory):\n",
    "                os.mkdir(directory)\n",
    "            save = \"/trinity/home/a.jha/scripts/Image_Compression/\" + networks + \"/\" + names \n",
    "#             print(save)\n",
    "            reconstructions.save(save)"
   ]
  },
  {
   "cell_type": "code",
   "execution_count": 43,
   "metadata": {},
   "outputs": [],
   "source": [
    "reconstructions = {name: transforms.ToPILImage()(out['x_hat'].squeeze().cpu())\n",
    "                  for name, out in outputs.items()}"
   ]
  },
  {
   "cell_type": "code",
   "execution_count": null,
   "metadata": {},
   "outputs": [],
   "source": [
    "\n",
    "header = f'{\"Model\":20s} | {\"PSNR [dB]\"} | {\"MS-SSIM\":<9s} | {\"Bpp\":<s}|'\n",
    "print('-'*len(header))\n",
    "print(header)\n",
    "print('-'*len(header))\n",
    "for name, m in metrics.items():\n",
    "    print(f'{name:20s}', end='')\n",
    "    for v in m.values():\n",
    "        print(f' | {v:9.3f}', end='')\n",
    "    print('|')\n",
    "print('-'*len(header))"
   ]
  },
  {
   "cell_type": "code",
   "execution_count": 45,
   "metadata": {},
   "outputs": [],
   "source": [
    "diffs = [torch.mean((out['x_hat'] - x).abs(), axis=1).squeeze()\n",
    "        for out in outputs.values()]"
   ]
  },
  {
   "cell_type": "code",
   "execution_count": 47,
   "metadata": {},
   "outputs": [],
   "source": [
    "def compute_psnr(a, b):\n",
    "    mse = torch.mean((a - b)**2).item()\n",
    "    return -10 * math.log10(mse)\n",
    "\n",
    "def compute_msssim(a, b):\n",
    "    return ms_ssim(a, b, data_range=1.).item()\n",
    "\n",
    "def compute_bpp(out_net):\n",
    "    size = out_net['x_hat'].size()\n",
    "#    print(out_net)\n",
    "#     print(size)\n",
    "    num_pixels = size[0] * size[2] * size[3]\n",
    "#     print(num_pixels)\n",
    "    \n",
    "#     sumation = sum(torch.log(likelihoods).sum() for likelihoods in out_net['likelihoods'].values()).item()\n",
    "#     print(sumation)\n",
    "    return sum(torch.log(likelihoods).sum() / (-math.log(2) * num_pixels)\n",
    "            for likelihoods in out_net['likelihoods'].values()).item()\n"
   ]
  },
  {
   "cell_type": "code",
   "execution_count": 48,
   "metadata": {},
   "outputs": [],
   "source": [
    "metrics = {}\n",
    "for name, out in outputs.items():\n",
    "    metrics[name] = {\n",
    "        'psnr': compute_psnr(x, out[\"x_hat\"]),\n",
    "        'ms-ssim': compute_msssim(x, out[\"x_hat\"]),\n",
    "        'bit-rate': compute_bpp(out),\n",
    "    }"
   ]
  },
  {
   "cell_type": "code",
   "execution_count": 49,
   "metadata": {},
   "outputs": [
    {
     "name": "stdout",
     "output_type": "stream",
     "text": [
      "---------------------------------------------------\n",
      "Model                | PSNR [dB] | MS-SSIM   | Bpp|\n",
      "---------------------------------------------------\n",
      "bmshj2018-factorized |    32.225 |     0.978 |     0.329|\n",
      "bmshj2018-hyperprior |    33.464 |     0.981 |     0.320|\n",
      "mbt2018-mean         |    33.505 |     0.981 |     0.290|\n",
      "mbt2018              |    33.778 |     0.981 |     0.264|\n",
      "cheng2020-anchor     |    34.019 |     0.981 |     0.256|\n",
      "---------------------------------------------------\n"
     ]
    }
   ],
   "source": [
    "header = f'{\"Model\":20s} | {\"PSNR [dB]\"} | {\"MS-SSIM\":<9s} | {\"Bpp\":<s}|'\n",
    "print('-'*len(header))\n",
    "print(header)\n",
    "print('-'*len(header))\n",
    "for name, m in metrics.items():\n",
    "    print(f'{name:20s}', end='')\n",
    "    for v in m.values():\n",
    "        print(f' | {v:9.3f}', end='')\n",
    "    print('|')\n",
    "print('-'*len(header))"
   ]
  },
  {
   "cell_type": "code",
   "execution_count": 170,
   "metadata": {},
   "outputs": [
    {
     "data": {
      "image/png": "[encoded data removed]",
      "text/plain": [
       "<Figure size 936x360 with 2 Axes>"
      ]
     },
     "metadata": {
      "needs_background": "light"
     },
     "output_type": "display_data"
    }
   ],
   "source": [
    "fig, axes = plt.subplots(1, 2, figsize=(13, 5))\n",
    "plt.figtext(.5, 0., '(upper-left is better)', fontsize=12, ha='center')\n",
    "for name, m in metrics.items():\n",
    "    axes[0].plot(m['bit-rate'], m['psnr'], 'o', label=name, linestyle='dotted')\n",
    "    axes[0].legend(loc='best')\n",
    "    axes[0].grid()\n",
    "    axes[0].set_ylabel('PSNR [dB]')\n",
    "    axes[0].set_xlabel('Bit-rate [bpp]')\n",
    "    axes[0].title.set_text('PSNR comparison')\n",
    "    axes[1].plot(m['bit-rate'], -10*np.log10(1-m['ms-ssim']), 'o', label=name, linestyle='dotted')\n",
    "    axes[1].legend(loc='best')\n",
    "    axes[1].grid()\n",
    "    axes[1].set_ylabel('MS-SSIM [dB]')\n",
    "    axes[1].set_xlabel('Bit-rate [bpp]')\n",
    "    axes[1].title.set_text('MS-SSIM (log) comparison')\n",
    "\n",
    "plt.show()"
   ]
  },
  {
   "cell_type": "code",
   "execution_count": null,
   "metadata": {},
   "outputs": [],
   "source": []
  },
  {
   "cell_type": "code",
   "execution_count": null,
   "metadata": {},
   "outputs": [],
   "source": []
  }
 ],
 "metadata": {
  "kernelspec": {
   "display_name": "Python 3",
   "language": "python",
   "name": "python3"
  },
  "language_info": {
   "codemirror_mode": {
    "name": "ipython",
    "version": 3
   },
   "file_extension": ".py",
   "mimetype": "text/x-python",
   "name": "python",
   "nbconvert_exporter": "python",
   "pygments_lexer": "ipython3",
   "version": "3.7.7"
  }
 },
 "nbformat": 4,
 "nbformat_minor": 4
}
